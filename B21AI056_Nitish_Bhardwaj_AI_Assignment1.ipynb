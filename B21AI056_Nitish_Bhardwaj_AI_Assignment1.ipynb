{
  "nbformat": 4,
  "nbformat_minor": 0,
  "metadata": {
    "colab": {
      "provenance": []
    },
    "kernelspec": {
      "name": "python3",
      "display_name": "Python 3"
    },
    "language_info": {
      "name": "python"
    }
  },
  "cells": [
    {
      "cell_type": "markdown",
      "source": [
        "#PART - A"
      ],
      "metadata": {
        "id": "efRWU-cOFHmY"
      }
    },
    {
      "cell_type": "code",
      "source": [
        "inpt=input()\n",
        "N=int(inpt[0])\n",
        "arr=[]\n",
        "for i in inpt[1:].split():\n",
        "  arr.append(float(i))\n",
        "print(\"No. of elements in array\", N)\n",
        "print(\"N elements of array are\", arr)"
      ],
      "metadata": {
        "colab": {
          "base_uri": "https://localhost:8080/"
        },
        "id": "oaV3dzeqeCi1",
        "outputId": "3ac28596-9aee-400d-e46d-efa418918636"
      },
      "execution_count": 41,
      "outputs": [
        {
          "output_type": "stream",
          "name": "stdout",
          "text": [
            "4 4 6.3 9 -3\n",
            "No. of elements in array 4\n",
            "N elements of array are [4.0, 6.3, 9.0, -3.0]\n"
          ]
        }
      ]
    },
    {
      "cell_type": "markdown",
      "source": [
        "## Goal State"
      ],
      "metadata": {
        "id": "o5OVusNXGmuP"
      }
    },
    {
      "cell_type": "code",
      "source": [
        "def GOAL(arr):\n",
        "  for i in range(len(arr)-1):\n",
        "    if arr[i]<=arr[i+1]:\n",
        "      continue\n",
        "    else:\n",
        "      return False\n",
        "  return True"
      ],
      "metadata": {
        "id": "_QJ7vEnriPcO"
      },
      "execution_count": 42,
      "outputs": []
    },
    {
      "cell_type": "markdown",
      "source": [
        "## (i) BFS"
      ],
      "metadata": {
        "id": "nrTKK78HFTUX"
      }
    },
    {
      "cell_type": "code",
      "source": [
        "class Queue:\n",
        "    def __init__(self):\n",
        "        self.items = []\n",
        "\n",
        "    def is_empty(self):\n",
        "        return len(self.items) == 0\n",
        "\n",
        "    def enqueue(self, item):\n",
        "        self.items.append(item)\n",
        "\n",
        "    def dequeue(self):\n",
        "        if not self.is_empty():\n",
        "            return self.items.pop(0)\n",
        "        else:\n",
        "            raise IndexError(\"Dequeue from empty queue\")\n",
        "    def top(self):\n",
        "        return self.items[0]\n",
        "    def size(self):\n",
        "        return len(self.items)\n"
      ],
      "metadata": {
        "id": "GZM_ZqDLjkRN"
      },
      "execution_count": 43,
      "outputs": []
    },
    {
      "cell_type": "code",
      "source": [
        "def sort_using_bfs(arr):\n",
        "  q = Queue()\n",
        "  q.enqueue(arr)\n",
        "  path = []\n",
        "  parent_map = {}\n",
        "  explored=0\n",
        "  while len(q.items) != 0 and GOAL(q.items[-1])!=1:\n",
        "      current_node = q.dequeue()\n",
        "      explored+=1\n",
        "      path.append(current_node)\n",
        "      for i in range(len(current_node) - 1):\n",
        "          temp = current_node.copy()\n",
        "          temp[i], temp[i + 1] = temp[i + 1], temp[i]\n",
        "          if temp not in q.items and temp not in path:\n",
        "              q.enqueue(temp)\n",
        "              parent_map[tuple(temp)] = tuple(current_node)\n",
        "\n",
        "              if GOAL(temp):\n",
        "                  break\n",
        "  path.extend(q.items)\n",
        "  current_state = path[-1]\n",
        "  final_path = []\n",
        "  while tuple(current_state) in parent_map:\n",
        "      parent_state = parent_map[tuple(current_state)]\n",
        "      index = [i for i in range(len(current_state)) if current_state[i] != parent_state[i]][0]\n",
        "      final_path.append(tuple(current_state))\n",
        "      current_state = list(parent_state)\n",
        "  final_path.append(tuple(arr))\n",
        "  final_path.reverse()\n",
        "  return arr, path[-1], list(final_path), explored\n",
        "\n",
        "start_state, goal_state, path, nodes_explored = sort_using_bfs(arr)\n",
        "print(\"Start State\", start_state)\n",
        "print(\"Goal State\", goal_state)\n",
        "print(\"Path taken from start state to goal state\", path)\n",
        "print(\"Number of nodes explored\", nodes_explored)\n"
      ],
      "metadata": {
        "colab": {
          "base_uri": "https://localhost:8080/"
        },
        "id": "VpF6K8swO4oK",
        "outputId": "7c02c8de-102f-4879-d991-cd3068ef41b9"
      },
      "execution_count": 44,
      "outputs": [
        {
          "output_type": "stream",
          "name": "stdout",
          "text": [
            "Start State [4.0, 6.3, 9.0, -3.0]\n",
            "Goal State [-3.0, 4.0, 6.3, 9.0]\n",
            "Path taken from start state to goal state [(4.0, 6.3, 9.0, -3.0), (4.0, 6.3, -3.0, 9.0), (4.0, -3.0, 6.3, 9.0), (-3.0, 4.0, 6.3, 9.0)]\n",
            "Number of nodes explored 9\n"
          ]
        }
      ]
    },
    {
      "cell_type": "markdown",
      "source": [
        "## (ii) DFS"
      ],
      "metadata": {
        "id": "yDp_bH3HFiDx"
      }
    },
    {
      "cell_type": "code",
      "source": [
        "def dfs(visited, parent_map, explored, arr):\n",
        "    current_node = arr\n",
        "    explored += 1\n",
        "    visited.append(arr)\n",
        "    if GOAL(visited[-1]) == 1:\n",
        "        return visited, parent_map, explored\n",
        "    for i in range(len(current_node) - 1):\n",
        "        temp = current_node.copy()\n",
        "        temp[i], temp[i + 1] = temp[i + 1], temp[i]\n",
        "        if temp not in visited:\n",
        "            parent_map[tuple(temp)] = tuple(current_node)\n",
        "            visited, parent_map, explored = dfs(visited, parent_map, explored, temp)\n",
        "            if GOAL(visited[-1]) == 1:\n",
        "              break\n",
        "    return visited, parent_map, explored\n",
        "\n",
        "def sort_using_dfs(arr):\n",
        "    visited = []\n",
        "    parent_map = {}\n",
        "    explored = 0\n",
        "    visited, parent_map, explored = dfs(visited, parent_map, explored, arr)\n",
        "    current_state = visited[-1]\n",
        "    final_path = []\n",
        "    while tuple(current_state) in parent_map:\n",
        "        parent_state = parent_map[tuple(current_state)]\n",
        "        index = [i for i in range(len(current_state)) if current_state[i] != parent_state[i]][0]\n",
        "        final_path.append(tuple(current_state))\n",
        "        current_state = list(parent_state)\n",
        "    final_path.append(tuple(arr))\n",
        "    final_path.reverse()\n",
        "    return arr, visited[-1], list(final_path), explored\n",
        "\n",
        "start_state, goal_state, path, nodes_explored = sort_using_dfs(arr)\n",
        "print(\"Start State\", start_state)\n",
        "print(\"Goal State\", goal_state)\n",
        "print(\"Path taken from start state to goal state\", path)\n",
        "print(\"Number of nodes explored\", nodes_explored)\n"
      ],
      "metadata": {
        "colab": {
          "base_uri": "https://localhost:8080/"
        },
        "id": "kWb-f45x9NXy",
        "outputId": "e2b8735c-45e3-4044-e87b-3e13c6fc9060"
      },
      "execution_count": 45,
      "outputs": [
        {
          "output_type": "stream",
          "name": "stdout",
          "text": [
            "Start State [4.0, 6.3, 9.0, -3.0]\n",
            "Goal State [-3.0, 4.0, 6.3, 9.0]\n",
            "Path taken from start state to goal state [(4.0, 6.3, 9.0, -3.0), (6.3, 4.0, 9.0, -3.0), (6.3, 9.0, 4.0, -3.0), (9.0, 6.3, 4.0, -3.0), (9.0, 4.0, 6.3, -3.0), (4.0, 9.0, 6.3, -3.0), (4.0, 9.0, -3.0, 6.3), (9.0, 4.0, -3.0, 6.3), (9.0, -3.0, 4.0, 6.3), (-3.0, 9.0, 4.0, 6.3), (-3.0, 4.0, 9.0, 6.3), (4.0, -3.0, 9.0, 6.3), (4.0, -3.0, 6.3, 9.0), (-3.0, 4.0, 6.3, 9.0)]\n",
            "Number of nodes explored 14\n"
          ]
        }
      ]
    },
    {
      "cell_type": "markdown",
      "source": [
        "## (iii) Iterative Deepening"
      ],
      "metadata": {
        "id": "_z37F_10Fnrq"
      }
    },
    {
      "cell_type": "code",
      "source": [
        "def IterativeDeepening(arr):\n",
        "    depth=1\n",
        "    explored = 0\n",
        "    while depth >=0:\n",
        "        visited = set()\n",
        "        stack = []\n",
        "\n",
        "        # initial_path = [arr]\n",
        "\n",
        "        initial_path = [arr]\n",
        "        stack.append(initial_path)\n",
        "        # stack.append(arr)\n",
        "        visited.add(tuple(arr))\n",
        "\n",
        "        while stack:\n",
        "            path= stack.pop()\n",
        "            current_node = path[-1]\n",
        "            if GOAL(current_node) == 1:\n",
        "                return arr, current_node, path, explored, depth\n",
        "\n",
        "            childs = []\n",
        "            for i in range(len(arr) - 1):\n",
        "                updated_list = current_node[:]\n",
        "                updated_list[i], updated_list[i + 1] = updated_list[i + 1], updated_list[i]\n",
        "                childs.append(updated_list)\n",
        "            if(len(path)<depth):\n",
        "                for child in childs:\n",
        "                    if tuple(child) not in visited:\n",
        "                        different_path = path.copy()\n",
        "                        different_path.append(child)\n",
        "                        visited.add(tuple(child))\n",
        "                        stack.append(different_path)\n",
        "                        explored += 1\n",
        "        depth+=1\n",
        "\n",
        "start_state, goal_state, path, nodes_explored, depth= IterativeDeepening(arr)\n",
        "print(\"Start State\", start_state)\n",
        "print(\"Goal State\", goal_state)\n",
        "print(\"Path taken from start state to goal state\", path)\n",
        "print(\"Number of nodes explored\", nodes_explored)\n",
        "print(\"The depth is\",depth)"
      ],
      "metadata": {
        "colab": {
          "base_uri": "https://localhost:8080/"
        },
        "id": "J143vNRcouGK",
        "outputId": "ca1617e4-b6aa-491d-f5c9-bc425025712d"
      },
      "execution_count": 46,
      "outputs": [
        {
          "output_type": "stream",
          "name": "stdout",
          "text": [
            "Start State [4.0, 6.3, 9.0, -3.0]\n",
            "Goal State [-3.0, 4.0, 6.3, 9.0]\n",
            "Path taken from start state to goal state [[4.0, 6.3, 9.0, -3.0], [4.0, 6.3, -3.0, 9.0], [4.0, -3.0, 6.3, 9.0], [-3.0, 4.0, 6.3, 9.0]]\n",
            "Number of nodes explored 18\n",
            "The depth is 4\n"
          ]
        }
      ]
    },
    {
      "cell_type": "markdown",
      "source": [
        "## (iv) UCS"
      ],
      "metadata": {
        "id": "rzaJJpuWFts-"
      }
    },
    {
      "cell_type": "code",
      "source": [
        "from queue import PriorityQueue\n",
        "def sort_using_ucs(arr):\n",
        "    visited = set()\n",
        "    pq = PriorityQueue()\n",
        "    explored = 0\n",
        "    initial_path = ([arr], 0)\n",
        "    pq.put(initial_path)\n",
        "    visited.add(tuple(arr))\n",
        "\n",
        "    while not pq.empty():\n",
        "        path, cost = pq.get()\n",
        "        current_node = path[-1]\n",
        "\n",
        "        if GOAL(current_node)==1:\n",
        "            return arr, current_node, path, explored, cost\n",
        "\n",
        "        for i in range(len(arr) - 1):\n",
        "            temp = current_node.copy()\n",
        "            temp[i], temp[i + 1] = temp[i + 1], temp[i]\n",
        "            if tuple(temp) not in visited:\n",
        "                different_path = path.copy()\n",
        "                different_path.append(temp)\n",
        "                visited.add(tuple(temp))\n",
        "                pq.put((different_path, cost + 1))\n",
        "                explored += 1\n",
        "\n",
        "\n",
        "start_state, goal_state, path, nodes_explored, cost= sort_using_ucs(arr)\n",
        "print(\"Start State\", start_state)\n",
        "print(\"Goal State\", goal_state)\n",
        "print(\"Path taken from start state to goal state\", path)\n",
        "print(\"Number of nodes explored\", nodes_explored)\n",
        "print(\"The cost is\",cost)"
      ],
      "metadata": {
        "colab": {
          "base_uri": "https://localhost:8080/"
        },
        "id": "7SjoEc2PrSvq",
        "outputId": "a43daa71-e042-4a44-b08c-8039d884cf7f"
      },
      "execution_count": 47,
      "outputs": [
        {
          "output_type": "stream",
          "name": "stdout",
          "text": [
            "Start State [4.0, 6.3, 9.0, -3.0]\n",
            "Goal State [-3.0, 4.0, 6.3, 9.0]\n",
            "Path taken from start state to goal state [[4.0, 6.3, 9.0, -3.0], [4.0, 6.3, -3.0, 9.0], [4.0, -3.0, 6.3, 9.0], [-3.0, 4.0, 6.3, 9.0]]\n",
            "Number of nodes explored 7\n",
            "The cost is 3\n"
          ]
        }
      ]
    },
    {
      "cell_type": "markdown",
      "source": [
        "## Heuristic function"
      ],
      "metadata": {
        "id": "8lFwoH53FzL4"
      }
    },
    {
      "cell_type": "code",
      "source": [
        "def heuristic(arr):\n",
        "    h=0\n",
        "    for i in range(len(arr)-1):\n",
        "        if(arr[i]>arr[i+1]):\n",
        "            h+=1\n",
        "    return h"
      ],
      "metadata": {
        "id": "oQXjxWm1u9xb"
      },
      "execution_count": 48,
      "outputs": []
    },
    {
      "cell_type": "markdown",
      "source": [
        "## (v) Greedy Search"
      ],
      "metadata": {
        "id": "pRmH0C0aF36U"
      }
    },
    {
      "cell_type": "code",
      "source": [
        "def sort_using_greedy_search(start_state, heuristic_function):\n",
        "    visited = []\n",
        "    priority_queue = []\n",
        "    priority_queue.append([start_state, heuristic_function(start_state)])\n",
        "    explored=0\n",
        "    path = []\n",
        "\n",
        "    while len(priority_queue)!=0:\n",
        "        priority_queue.sort(key=lambda x: x[1])  # Sort by heuristic value\n",
        "        current_state, heuristic_cost = priority_queue[0].copy()\n",
        "        priority_queue.pop(0)\n",
        "        explored+=1\n",
        "        # if tuple(current_state) in visited:\n",
        "        #     continue\n",
        "\n",
        "        visited.append(tuple(current_state))\n",
        "\n",
        "        # if print_state:\n",
        "        #     print(f'{current_state}, Heuristic: {heuristic_cost}')\n",
        "\n",
        "        path.append(current_state)\n",
        "\n",
        "        if GOAL(current_state):\n",
        "            return arr, current_state, path, explored\n",
        "        for i in range(len(arr) - 1):\n",
        "            temp = current_state.copy()\n",
        "            temp[i], temp[i + 1] = temp[i + 1], temp[i]\n",
        "            if tuple(temp) not in visited:\n",
        "              priority_queue.append([temp, heuristic(temp)])\n",
        "\n",
        "\n",
        "start_state, goal_state, path, nodes_explored = sort_using_greedy_search(arr, heuristic)\n",
        "print(\"Start State\", start_state)\n",
        "print(\"Goal State\", goal_state)\n",
        "print(\"Path taken from start state to goal state\", path)\n",
        "print(\"Number of nodes explored\", nodes_explored)\n"
      ],
      "metadata": {
        "colab": {
          "base_uri": "https://localhost:8080/"
        },
        "id": "p4eIK9gTvGQw",
        "outputId": "c1610a55-e898-4bed-d9bc-325c1931096a"
      },
      "execution_count": 115,
      "outputs": [
        {
          "output_type": "stream",
          "name": "stdout",
          "text": [
            "Start State [4, 6.3, 9, -3]\n",
            "Goal State [-3, 4, 6.3, 9]\n",
            "Path taken from start state to goal state [[4, 6.3, 9, -3], [4, 6.3, -3, 9], [4, -3, 6.3, 9], [-3, 4, 6.3, 9]]\n",
            "Number of nodes explored 4\n"
          ]
        }
      ]
    },
    {
      "cell_type": "markdown",
      "source": [
        "## (vi) A* Search"
      ],
      "metadata": {
        "id": "A_uUb_tvF9LL"
      }
    },
    {
      "cell_type": "code",
      "source": [
        "def sort_using_Astar_search(arr):\n",
        "    visited = []\n",
        "    pqueue = []\n",
        "    pqueue.append([arr, 0, heuristic(arr) + 0])\n",
        "    cost_each=1\n",
        "    path = []\n",
        "    explored=0\n",
        "    while(len(pqueue) != 0):\n",
        "        front = pqueue[0].copy()\n",
        "        current_state, cumcost, fcost = front\n",
        "        pqueue.pop(0)\n",
        "        explored+=1\n",
        "        if tuple(current_state) not in visited:\n",
        "          visited.append(tuple(current_state))\n",
        "\n",
        "        # if print_state:\n",
        "        #     print(f'{current_state}, fwd cost + bkwd cost: {fcost}')\n",
        "        path.append(current_state)\n",
        "\n",
        "        if GOAL(current_state):\n",
        "            return arr, current_state, path, explored\n",
        "        for i in range(len(arr) - 1):\n",
        "            temp = current_state.copy()\n",
        "            temp[i], temp[i + 1] = temp[i + 1], temp[i]\n",
        "            if tuple(temp) not in visited:\n",
        "              pqueue.append([temp, cumcost+cost_each, heuristic(temp)+cumcost+cost_each])\n",
        "\n",
        "        pqueue.sort(key=lambda x: x[0])\n",
        "        pqueue.sort(key=lambda x: x[2])\n",
        "start_state, goal_state, path, nodes_explored = sort_using_Astar_search(arr)\n",
        "print(\"Start State\", start_state)\n",
        "print(\"Goal State\", goal_state)\n",
        "print(\"Path taken from start state to goal state\", path)\n",
        "print(\"Number of nodes explored\", nodes_explored)"
      ],
      "metadata": {
        "colab": {
          "base_uri": "https://localhost:8080/"
        },
        "id": "KkqoRi_k34do",
        "outputId": "405147cc-853b-48a9-9235-1546fdedf6b3"
      },
      "execution_count": 113,
      "outputs": [
        {
          "output_type": "stream",
          "name": "stdout",
          "text": [
            "Start State [4, 6.3, 9, -3]\n",
            "Goal State [-3, 4, 6.3, 9]\n",
            "Path taken from start state to goal state [[4, 6.3, 9, -3], [4, 6.3, -3, 9], [4, -3, 6.3, 9], [-3, 4, 6.3, 9]]\n",
            "Number of nodes explored 4\n"
          ]
        }
      ]
    },
    {
      "cell_type": "markdown",
      "source": [
        "## (vii) Hill Climbing"
      ],
      "metadata": {
        "id": "oJTdgteRGDPU"
      }
    },
    {
      "cell_type": "code",
      "source": [
        "def rec_hc(arr, visited, explored):\n",
        "    if GOAL(arr)==1:\n",
        "        return arr, explored\n",
        "    visited.append(tuple(arr))\n",
        "    children = []\n",
        "    for i in range(len(arr) - 1):\n",
        "        temp = arr.copy()\n",
        "        temp[i], temp[i + 1] = temp[i + 1], temp[i]\n",
        "        if tuple(temp) not in visited:\n",
        "          children.append(temp)\n",
        "    explored+=1\n",
        "    if len(children) == 0:\n",
        "        return arr\n",
        "\n",
        "    compare=0\n",
        "    bestchild=[]\n",
        "    for child in children:\n",
        "      if compare < heuristic(child):\n",
        "        compare=heuristic(child)\n",
        "        bestchild=child\n",
        "\n",
        "    if heuristic(bestchild) < heuristic(arr):\n",
        "        return arr[::-1], explored\n",
        "\n",
        "    return rec_hc(bestchild, visited, explored)\n",
        "\n",
        "def sort_by_hill_climbing(arr):\n",
        "  visited=[]\n",
        "  explored=0\n",
        "  return rec_hc(arr,visited,explored)\n",
        "start_state=arr\n",
        "goal_state, nodes_explored=sort_by_hill_climbing(arr)\n",
        "print(\"Start State\", start_state)\n",
        "print(\"Goal State\", goal_state)\n",
        "print(\"Number of nodes explored\", nodes_explored)\n",
        ""
      ],
      "metadata": {
        "colab": {
          "base_uri": "https://localhost:8080/"
        },
        "id": "pmFaSy7wCSIG",
        "outputId": "719b8b4d-5e64-410e-9e0d-95831901e940"
      },
      "execution_count": 116,
      "outputs": [
        {
          "output_type": "stream",
          "name": "stdout",
          "text": [
            "Start State [4, 6.3, 9, -3]\n",
            "Goal State [-3, 4, 6.3, 9]\n",
            "Number of nodes explored 4\n"
          ]
        }
      ]
    },
    {
      "cell_type": "markdown",
      "source": [
        "# PART-B"
      ],
      "metadata": {
        "id": "5QYzWCcsGI3t"
      }
    },
    {
      "cell_type": "code",
      "source": [
        "import random\n",
        "import numpy as np\n",
        "def generate_random_array(n, min_value=-100, max_value=100):\n",
        "    return [random.randint(min_value, max_value) for _ in range(n)]\n"
      ],
      "metadata": {
        "id": "noN2HFHAU6b2"
      },
      "execution_count": 53,
      "outputs": []
    },
    {
      "cell_type": "code",
      "source": [
        "def avg_num_of_nodes_explored_for_each_n(n, arrays):\n",
        "  print(f\"For n = {n}\")\n",
        "  avg=[]\n",
        "\n",
        "  algo_compare=[]\n",
        "  for arr in arrays:\n",
        "    start_state, goal_state, path, nodes_explored = sort_using_bfs(arr)\n",
        "    # print(f\"For start state {start_state} to goal state {goal_state}, nodes explored : {nodes_explored}\")\n",
        "    avg.append(nodes_explored)\n",
        "  print(f\"Average nodes explored using bfs : {np.mean(avg)}\")\n",
        "  algo_compare.append(np.mean(avg))\n",
        "\n",
        "  avg=[]\n",
        "  for arr in arrays:\n",
        "    start_state, goal_state, path, nodes_explored = sort_using_dfs(arr)\n",
        "    # print(f\"For start state {start_state} to goal state {goal_state}, nodes explored : {nodes_explored}\")\n",
        "    avg.append(nodes_explored)\n",
        "  print(f\"Average nodes explored using dfs : {np.mean(avg)}\")\n",
        "  algo_compare.append(np.mean(avg))\n",
        "\n",
        "  avg=[]\n",
        "  for arr in arrays:\n",
        "    start_state, goal_state, path, nodes_explored, depth= IterativeDeepening(arr)\n",
        "    # print(f\"For start state {start_state} to goal state {goal_state}, nodes explored : {nodes_explored}\")\n",
        "    avg.append(nodes_explored)\n",
        "  print(f\"Average nodes explored using iterative deepening : {np.mean(avg)}\")\n",
        "  algo_compare.append(np.mean(avg))\n",
        "\n",
        "  avg=[]\n",
        "  for arr in arrays:\n",
        "    start_state, goal_state, path, nodes_explored, cost = sort_using_ucs(arr)\n",
        "    # print(f\"For start state {start_state} to goal state {goal_state}, nodes explored : {nodes_explored}\")\n",
        "    avg.append(nodes_explored)\n",
        "  print(f\"Average nodes explored using ucs : {np.mean(avg)}\")\n",
        "  algo_compare.append(np.mean(avg))\n",
        "\n",
        "  avg=[]\n",
        "  for arr in arrays:\n",
        "    start_state, goal_state, path, nodes_explored = sort_using_greedy_search(arr, heuristic)\n",
        "    # print(f\"For start state {start_state} to goal state {goal_state}, nodes explored : {nodes_explored}\")\n",
        "    avg.append(nodes_explored)\n",
        "  print(f\"Average nodes explored using greedy search : {np.mean(avg)}\")\n",
        "  algo_compare.append(np.mean(avg))\n",
        "\n",
        "  avg=[]\n",
        "  for arr in arrays:\n",
        "    start_state, goal_state, path, nodes_explored = sort_using_Astar_search(arr)\n",
        "    # print(f\"For start state {start_state} to goal state {goal_state}, nodes explored : {nodes_explored}\")\n",
        "    avg.append(nodes_explored)\n",
        "  print(f\"Average nodes explored using A* search : {np.mean(avg)}\")\n",
        "  algo_compare.append(np.mean(avg))\n",
        "\n",
        "  avg=[]\n",
        "  for arr in arrays:\n",
        "    goal_state, nodes_explored=sort_by_hill_climbing(arr)\n",
        "    # print(f\"For start state {start_state} to goal state {goal_state}, nodes explored : {nodes_explored}\")\n",
        "    avg.append(nodes_explored)\n",
        "  print(f\"Average nodes explored using hill climbing search : {np.mean(avg)}\")\n",
        "  algo_compare.append(np.mean(avg))\n",
        "  return algo_compare\n"
      ],
      "metadata": {
        "id": "f2LGafsCpmkB"
      },
      "execution_count": 84,
      "outputs": []
    },
    {
      "cell_type": "code",
      "source": [
        "arrays=[]\n",
        "for i in range(20):\n",
        "  random_arr=generate_random_array(3)\n",
        "  arrays.append(random_arr)\n",
        "algo_compare3=avg_num_of_nodes_explored_for_each_n(3,arrays)"
      ],
      "metadata": {
        "colab": {
          "base_uri": "https://localhost:8080/"
        },
        "id": "z4vCbc3Cb-kq",
        "outputId": "ba710cbd-e176-46cd-8a85-9f16842630bf"
      },
      "execution_count": 93,
      "outputs": [
        {
          "output_type": "stream",
          "name": "stdout",
          "text": [
            "For n = 3\n",
            "Average nodes explored using bfs : 2.1\n",
            "Average nodes explored using dfs : 3.6\n",
            "Average nodes explored using iterative deepening : 4.5\n",
            "Average nodes explored using ucs : 2.4\n",
            "Average nodes explored using greedy search : 2.8\n",
            "Average nodes explored using A* search : 2.6\n",
            "Average nodes explored using hill climbing search : 1.6\n"
          ]
        }
      ]
    },
    {
      "cell_type": "code",
      "source": [
        "arrays=[]\n",
        "for i in range(20):\n",
        "  random_arr=generate_random_array(4)\n",
        "  arrays.append(random_arr)\n",
        "algo_compare4=avg_num_of_nodes_explored_for_each_n(4,arrays)"
      ],
      "metadata": {
        "colab": {
          "base_uri": "https://localhost:8080/"
        },
        "id": "6hfLhc1XcBOo",
        "outputId": "3faf08e8-a65f-459f-9935-765ad1031940"
      },
      "execution_count": 97,
      "outputs": [
        {
          "output_type": "stream",
          "name": "stdout",
          "text": [
            "For n = 4\n",
            "Average nodes explored using bfs : 8.8\n",
            "Average nodes explored using dfs : 13.05\n",
            "Average nodes explored using iterative deepening : 27.75\n",
            "Average nodes explored using ucs : 7.2\n",
            "Average nodes explored using greedy search : 4.9\n",
            "Average nodes explored using A* search : 4.35\n",
            "Average nodes explored using hill climbing search : 2.7\n"
          ]
        }
      ]
    },
    {
      "cell_type": "code",
      "source": [
        "arrays=[]\n",
        "for i in range(20):\n",
        "  random_arr=generate_random_array(5)\n",
        "  arrays.append(random_arr)\n",
        "algo_compare5=avg_num_of_nodes_explored_for_each_n(5,arrays)"
      ],
      "metadata": {
        "colab": {
          "base_uri": "https://localhost:8080/"
        },
        "id": "5Ur5KaoUc7jj",
        "outputId": "92e311a6-9707-4dc4-809f-1d07e41cd981"
      },
      "execution_count": 88,
      "outputs": [
        {
          "output_type": "stream",
          "name": "stdout",
          "text": [
            "For n = 5\n",
            "Average nodes explored using bfs : 40.9\n",
            "Average nodes explored using dfs : 50.8\n",
            "Average nodes explored using iterative deepening : 185.8\n",
            "Average nodes explored using ucs : 14.2\n",
            "Average nodes explored using greedy search : 9.1\n",
            "Average nodes explored using A* search : 5.7\n",
            "Average nodes explored using hill climbing search : 4.0\n"
          ]
        }
      ]
    },
    {
      "cell_type": "code",
      "source": [
        "arrays=[]\n",
        "for i in range(20):\n",
        "  random_arr=generate_random_array(6)\n",
        "  arrays.append(random_arr)\n",
        "algo_compare6=avg_num_of_nodes_explored_for_each_n(6,arrays)"
      ],
      "metadata": {
        "colab": {
          "base_uri": "https://localhost:8080/"
        },
        "id": "jzEUuMP3dT6P",
        "outputId": "19531c76-b3ba-46fa-d5f6-4270b28e91b9"
      },
      "execution_count": 85,
      "outputs": [
        {
          "output_type": "stream",
          "name": "stdout",
          "text": [
            "For n = 6\n",
            "Average nodes explored using bfs : 241.95\n",
            "Average nodes explored using dfs : 325.55\n",
            "Average nodes explored using iterative deepening : 1299.65\n",
            "Average nodes explored using ucs : 27.75\n",
            "Average nodes explored using greedy search : 23.9\n",
            "Average nodes explored using A* search : 8.1\n",
            "Average nodes explored using hill climbing search : 4.0\n"
          ]
        }
      ]
    },
    {
      "cell_type": "markdown",
      "source": [
        "## Comparison Graph"
      ],
      "metadata": {
        "id": "7ImYcEE1GPMS"
      }
    },
    {
      "cell_type": "code",
      "source": [
        "import matplotlib.pyplot as plt\n",
        "algos=['BFS','DFS','Iter. deep.','UCS','Greedy','A*','Hill Climbing']\n",
        "# Plotting the lists\n",
        "plt.plot(algos,algo_compare3, label='n= 3')\n",
        "plt.plot(algos,algo_compare4, label='n= 4')\n",
        "plt.plot(algos,algo_compare5, label='n= 5')\n",
        "plt.plot(algos,algo_compare6, label='n= 6')\n",
        "\n",
        "# Adding labels and legend\n",
        "plt.xlabel('Search Algorithms')\n",
        "plt.ylabel('Average no. of nodes explored')\n",
        "plt.title('Comparison Graph')\n",
        "plt.legend()\n",
        "\n",
        "# Display the plot\n",
        "plt.show()\n"
      ],
      "metadata": {
        "colab": {
          "base_uri": "https://localhost:8080/",
          "height": 472
        },
        "id": "LjSl2SXauo0I",
        "outputId": "559b1a38-4182-490e-a01c-9915db54a65f"
      },
      "execution_count": 104,
      "outputs": [
        {
          "output_type": "display_data",
          "data": {
            "text/plain": [
              "<Figure size 640x480 with 1 Axes>"
            ],
            "image/png": "[encoded data removed]"
          },
          "metadata": {}
        }
      ]
    }
  ]
}